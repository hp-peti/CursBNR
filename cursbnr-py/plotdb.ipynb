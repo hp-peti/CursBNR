{
 "cells": [
  {
   "cell_type": "code",
   "execution_count": null,
   "metadata": {},
   "outputs": [],
   "source": [
    "from cursdb import CursDB\n",
    "from cursclient import CursClient\n",
    "from matplotlib import pyplot as plt\n",
    "from dateutil.relativedelta import relativedelta\n"
   ]
  },
  {
   "cell_type": "code",
   "execution_count": null,
   "metadata": {},
   "outputs": [],
   "source": []
  },
  {
   "cell_type": "code",
   "execution_count": null,
   "metadata": {},
   "outputs": [],
   "source": [
    "db = CursDB(\"bnr.db\")\n",
    "client = CursClient()\n"
   ]
  },
  {
   "cell_type": "code",
   "execution_count": null,
   "metadata": {},
   "outputs": [],
   "source": [
    "def update_db(*, days_back=7):\n",
    "    last_date = client.lastdate\n",
    "    all = []\n",
    "    for days in range(days_back):\n",
    "        all.extend(client.getall(last_date - relativedelta(days=days)))\n",
    "\n",
    "    for date, currency, value in all:\n",
    "        db.insert_value(date, currency, value, replace=False)\n",
    "    db.commit()"
   ]
  },
  {
   "cell_type": "code",
   "execution_count": null,
   "metadata": {},
   "outputs": [],
   "source": [
    "print(db.get_currencies())"
   ]
  },
  {
   "cell_type": "code",
   "execution_count": null,
   "metadata": {},
   "outputs": [],
   "source": [
    "%matplotlib widget\n",
    "\n",
    "def plot_currencies(*, currencies, start_date, end_date = None):\n",
    "    rows = list(\n",
    "        db.select_rows(\n",
    "            date=(start_date, end_date),\n",
    "            currency=currencies,\n",
    "            orderby=\"date\",\n",
    "        )\n",
    "    )\n",
    "\n",
    "    data = {\n",
    "        c: [\n",
    "            [dcv[0] for dcv in rows if dcv[1] == c],\n",
    "            [dcv[2] for dcv in rows if dcv[1] == c],\n",
    "        ]\n",
    "        for c in currencies\n",
    "    }\n",
    "    plt.clf()\n",
    "    for l,dv in data.items():\n",
    "        plt.plot(dv[0], dv[1], label=l)\n",
    "\n",
    "    plt.legend()\n",
    "    plt.gcf().autofmt_xdate(rotation=60)\n",
    "    plt.gca().set_title(\"RON\")\n",
    "    plt.grid()\n",
    "    plt.show()\n"
   ]
  },
  {
   "cell_type": "code",
   "execution_count": null,
   "metadata": {},
   "outputs": [],
   "source": [
    "plot_currencies(currencies=[\"EUR\", \"USD\"], start_date=\"2022-06-01\", end_date=None)\n"
   ]
  },
  {
   "cell_type": "code",
   "execution_count": null,
   "metadata": {},
   "outputs": [],
   "source": []
  },
  {
   "cell_type": "code",
   "execution_count": null,
   "metadata": {},
   "outputs": [],
   "source": [
    "currencies = db.get_currencies()\n",
    "start_date = \"1990-01-01\"\n",
    "end_date = None ; \"2023-02-01\"\n",
    "\n",
    "rows = list(\n",
    "    db.select_rows(\n",
    "        date=(start_date, end_date),\n",
    "        currency=currencies,\n",
    "        orderby=\"date\",\n",
    "    )\n",
    ")\n",
    "\n",
    "data = {\n",
    "    c: [\n",
    "        [dcv[0] for dcv in rows if dcv[1] == c],\n",
    "        [dcv[2] for dcv in rows if dcv[1] == c],\n",
    "    ]\n",
    "    for c in currencies\n",
    "}\n"
   ]
  },
  {
   "cell_type": "code",
   "execution_count": null,
   "metadata": {},
   "outputs": [],
   "source": [
    "%matplotlib inline\n",
    "for l,dv in data.items():\n",
    "    plt.figure()\n",
    "    plt.plot(dv[0], dv[1], label=l)\n",
    "    plt.legend()\n",
    "    plt.show()\n",
    "    plt.close()\n",
    "\n"
   ]
  }
 ],
 "metadata": {
  "kernelspec": {
   "display_name": "cursbnr-py",
   "language": "python",
   "name": "python3"
  },
  "language_info": {
   "codemirror_mode": {
    "name": "ipython",
    "version": 3
   },
   "file_extension": ".py",
   "mimetype": "text/x-python",
   "name": "python",
   "nbconvert_exporter": "python",
   "pygments_lexer": "ipython3",
   "version": "3.11.0"
  },
  "orig_nbformat": 4,
  "vscode": {
   "interpreter": {
    "hash": "eb5610bc7cdf608ab502a4cb748eba1ade99a8fca80a6acf21395049fff94ad2"
   }
  }
 },
 "nbformat": 4,
 "nbformat_minor": 2
}
