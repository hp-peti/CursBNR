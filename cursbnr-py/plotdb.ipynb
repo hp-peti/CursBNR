{
 "cells": [
  {
   "cell_type": "code",
   "execution_count": null,
   "metadata": {},
   "outputs": [],
   "source": [
    "from curs.db import CursDB\n",
    "from curs.client import CursClient\n",
    "from curs.types import extract_dates_values\n",
    "from matplotlib import pyplot as plt\n",
    "from matplotlib import cm\n",
    "from dateutil.relativedelta import relativedelta\n",
    "import numpy as np\n",
    "from pathlib import Path"
   ]
  },
  {
   "cell_type": "code",
   "execution_count": null,
   "metadata": {},
   "outputs": [],
   "source": [
    "db = CursDB(Path.cwd() / \"bnr.db\", mode=\"ro\")"
   ]
  },
  {
   "cell_type": "code",
   "execution_count": null,
   "metadata": {},
   "outputs": [],
   "source": [
    "print(db.get_currencies())"
   ]
  },
  {
   "cell_type": "code",
   "execution_count": null,
   "metadata": {},
   "outputs": [],
   "source": [
    "%matplotlib inline\n",
    "\n",
    "def plot_currencies(*, currencies, start_date, end_date = None, marker=None, markersize=None):\n",
    "    rows = db.select_value_rows(\n",
    "            date=(start_date, end_date),\n",
    "            currency=currencies,\n",
    "            orderby=\"date\",\n",
    "        )\n",
    "\n",
    "    data = {\n",
    "        c: extract_dates_values(rows, currency=c)\n",
    "        for c in currencies\n",
    "    }\n",
    "    plt.figure(dpi=150)\n",
    "    plt.clf()\n",
    "    for l,dv in data.items():\n",
    "        plt.plot(dv[0], dv[1], label=l, marker=marker, markersize=markersize)\n",
    "\n",
    "    plt.legend()\n",
    "    plt.gcf().autofmt_xdate(rotation=60)\n",
    "    axes = plt.gca()\n",
    "    axes.set_title(\"RON\")\n",
    "    axes.locator_params(axis='x', tight=True, nbins=64)\n",
    "    axes.locator_params(axis='y', tight=True, nbins=24)\n",
    "    axes.tick_params(labelsize=7)\n",
    "    plt.grid()\n",
    "    plt.show()\n"
   ]
  },
  {
   "cell_type": "code",
   "execution_count": null,
   "metadata": {},
   "outputs": [],
   "source": [
    "plot_currencies(currencies=[\"EUR\", \"USD\", \"GBP\"], start_date=\"2023-01-01\", end_date=None, marker='o', markersize=4)\n"
   ]
  },
  {
   "cell_type": "code",
   "execution_count": null,
   "metadata": {},
   "outputs": [],
   "source": [
    "currencies = db.get_currencies()\n",
    "start_date = None # \"1990-01-01\"\n",
    "end_date = None # \"2023-02-01\"\n",
    "date = None # (start_date, end_date)\n",
    "\n",
    "rows = db.select_value_rows(\n",
    "    date=date,\n",
    "    currency=currencies,\n",
    "    orderby=\"date,currency\",\n",
    ")\n",
    "\n",
    "data = {\n",
    "    c: extract_dates_values(rows, currency=c)\n",
    "    for c in currencies\n",
    "}\n",
    "\n",
    "colors = cm.rainbow(np.linspace(0, 1, len(data))) * np.array([0.75, 0.75, 0.75, 1])"
   ]
  },
  {
   "cell_type": "code",
   "execution_count": null,
   "metadata": {},
   "outputs": [],
   "source": [
    "%matplotlib inline\n",
    "for i,(l,dv) in enumerate(data.items()):\n",
    "    plt.figure()\n",
    "    plt.plot(dv[0], dv[1], label=l, color=colors[i])\n",
    "    plt.legend()\n",
    "    plt.show()\n",
    "    plt.close()\n",
    "\n"
   ]
  }
 ],
 "metadata": {
  "kernelspec": {
   "display_name": "cursbnr-py",
   "language": "python",
   "name": "python3"
  },
  "language_info": {
   "codemirror_mode": {
    "name": "ipython",
    "version": 3
   },
   "file_extension": ".py",
   "mimetype": "text/x-python",
   "name": "python",
   "nbconvert_exporter": "python",
   "pygments_lexer": "ipython3",
   "version": "3.11.0"
  },
  "orig_nbformat": 4,
  "vscode": {
   "interpreter": {
    "hash": "af06d3eddf6975ef767360373dbddfabfdfe743072483ac68eed0d71eba430d1"
   }
  }
 },
 "nbformat": 4,
 "nbformat_minor": 2
}
