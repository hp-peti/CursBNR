{
 "cells": [
  {
   "cell_type": "code",
   "execution_count": 3,
   "metadata": {},
   "outputs": [],
   "source": [
    "from cursdb import CursDB\n",
    "from cursclient import CursClient\n",
    "from curstypes import extract_dates_values\n",
    "from matplotlib import pyplot as plt\n",
    "from dateutil.relativedelta import relativedelta\n"
   ]
  },
  {
   "cell_type": "code",
   "execution_count": null,
   "metadata": {},
   "outputs": [],
   "source": []
  },
  {
   "cell_type": "code",
   "execution_count": 4,
   "metadata": {},
   "outputs": [],
   "source": [
    "db = CursDB(\"bnr.db\")\n",
    "client = CursClient()\n"
   ]
  },
  {
   "cell_type": "code",
   "execution_count": null,
   "metadata": {},
   "outputs": [],
   "source": [
    "db.select_no_value_rows(currency=\"HRK\")"
   ]
  },
  {
   "cell_type": "code",
   "execution_count": null,
   "metadata": {},
   "outputs": [],
   "source": []
  },
  {
   "cell_type": "code",
   "execution_count": null,
   "metadata": {},
   "outputs": [],
   "source": [
    "print(db.get_currencies())"
   ]
  },
  {
   "cell_type": "code",
   "execution_count": null,
   "metadata": {},
   "outputs": [],
   "source": [
    "%matplotlib widget\n",
    "\n",
    "def plot_currencies(*, currencies, start_date, end_date = None):\n",
    "    rows = db.select_rows(\n",
    "            date=(start_date, end_date),\n",
    "            currency=currencies,\n",
    "            orderby=\"date\",\n",
    "        )\n",
    "\n",
    "    data = {\n",
    "        c: extract_dates_values(rows, currency=c)\n",
    "        for c in currencies\n",
    "    }\n",
    "    plt.clf()\n",
    "    for l,dv in data.items():\n",
    "        plt.plot(dv[0], dv[1], label=l)\n",
    "\n",
    "    plt.legend()\n",
    "    plt.gcf().autofmt_xdate(rotation=60)\n",
    "    plt.gca().set_title(\"RON\")\n",
    "    plt.grid()\n",
    "    plt.show()\n"
   ]
  },
  {
   "cell_type": "code",
   "execution_count": null,
   "metadata": {},
   "outputs": [],
   "source": [
    "plot_currencies(currencies=[\"EUR\", \"USD\"], start_date=\"2022-01-01\", end_date=None)\n"
   ]
  },
  {
   "cell_type": "code",
   "execution_count": null,
   "metadata": {},
   "outputs": [],
   "source": [
    "currencies = db.get_currencies()\n",
    "start_date = None # \"1990-01-01\"\n",
    "end_date = None # \"2023-02-01\"\n",
    "date = None # (start_date, end_date)\n",
    "\n",
    "rows = db.select_rows(\n",
    "    date=date,\n",
    "    currency=currencies,\n",
    "    orderby=\"date,currency\",\n",
    ")\n",
    "\n",
    "data = {\n",
    "    c: extract_dates_values(rows, currency=c)\n",
    "    for c in currencies\n",
    "}"
   ]
  },
  {
   "cell_type": "code",
   "execution_count": null,
   "metadata": {},
   "outputs": [],
   "source": [
    "%matplotlib inline\n",
    "for l,dv in data.items():\n",
    "    plt.figure()\n",
    "    plt.plot(dv[0], dv[1], label=l)\n",
    "    plt.legend()\n",
    "    plt.show()\n",
    "    plt.close()\n",
    "\n"
   ]
  }
 ],
 "metadata": {
  "kernelspec": {
   "display_name": "cursbnr-py",
   "language": "python",
   "name": "python3"
  },
  "language_info": {
   "codemirror_mode": {
    "name": "ipython",
    "version": 3
   },
   "file_extension": ".py",
   "mimetype": "text/x-python",
   "name": "python",
   "nbconvert_exporter": "python",
   "pygments_lexer": "ipython3",
   "version": "3.11.0"
  },
  "orig_nbformat": 4,
  "vscode": {
   "interpreter": {
    "hash": "eb5610bc7cdf608ab502a4cb748eba1ade99a8fca80a6acf21395049fff94ad2"
   }
  }
 },
 "nbformat": 4,
 "nbformat_minor": 2
}
