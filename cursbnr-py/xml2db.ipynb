{
 "cells": [
  {
   "cell_type": "code",
   "execution_count": null,
   "metadata": {},
   "outputs": [],
   "source": [
    "from cursxml import parse_bnr_xml\n",
    "from cursdb import CursDB"
   ]
  },
  {
   "cell_type": "code",
   "execution_count": null,
   "metadata": {},
   "outputs": [],
   "source": [
    "db = CursDB(\"bnr.xml.db\")\n"
   ]
  },
  {
   "cell_type": "code",
   "execution_count": null,
   "metadata": {},
   "outputs": [],
   "source": [
    "#items = parse_bnr_xml(\"../bin/bnr.xml\")\n",
    "#items = parse_bnr_xml(\"A:/GoogleDrive/Apps/CursBNR/bnr.xml\")\n",
    "items = {}"
   ]
  },
  {
   "cell_type": "code",
   "execution_count": null,
   "metadata": {},
   "outputs": [],
   "source": [
    "\n",
    "for currency, rates in items.items():\n",
    "    for date, value in rates.items():\n",
    "        db.insert_value(date, currency, value, replace=True)\n",
    "db.commit()"
   ]
  },
  {
   "cell_type": "code",
   "execution_count": null,
   "metadata": {},
   "outputs": [],
   "source": [
    "data = list(db.select_rows(date=('2020-01-10', '2023-01-31'), currency='EUR', orderby=\"date\"))"
   ]
  },
  {
   "cell_type": "code",
   "execution_count": null,
   "metadata": {},
   "outputs": [],
   "source": [
    "from matplotlib import pyplot as plt"
   ]
  },
  {
   "cell_type": "code",
   "execution_count": null,
   "metadata": {},
   "outputs": [],
   "source": [
    "dates = [dcv[0] for dcv in data]\n",
    "values = [dcv[2] for dcv in data]\n"
   ]
  },
  {
   "cell_type": "code",
   "execution_count": null,
   "metadata": {},
   "outputs": [],
   "source": []
  },
  {
   "cell_type": "code",
   "execution_count": null,
   "metadata": {},
   "outputs": [],
   "source": [
    "\n",
    "plt.plot(dates, values)\n",
    "ax = plt.gca()\n"
   ]
  }
 ],
 "metadata": {
  "kernelspec": {
   "display_name": "cursbnr-py",
   "language": "python",
   "name": "python3"
  },
  "language_info": {
   "codemirror_mode": {
    "name": "ipython",
    "version": 3
   },
   "file_extension": ".py",
   "mimetype": "text/x-python",
   "name": "python",
   "nbconvert_exporter": "python",
   "pygments_lexer": "ipython3",
   "version": "3.11.0"
  },
  "orig_nbformat": 4,
  "vscode": {
   "interpreter": {
    "hash": "18ffb1aaffc7e554c7478a33f275d6fea6b3dd841d2019adc23a725af6f8381a"
   }
  }
 },
 "nbformat": 4,
 "nbformat_minor": 2
}
