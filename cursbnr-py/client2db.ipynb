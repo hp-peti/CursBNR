{
 "cells": [
  {
   "cell_type": "code",
   "execution_count": null,
   "metadata": {},
   "outputs": [],
   "source": [
    "from dateutil.relativedelta import relativedelta\n",
    "from dateutil.rrule import rrule, DAILY\n",
    "from tqdm.notebook import tqdm"
   ]
  },
  {
   "cell_type": "code",
   "execution_count": null,
   "metadata": {},
   "outputs": [],
   "source": [
    "from cursdb import CursDB\n",
    "db = CursDB(\"bnr.xml.db\")\n"
   ]
  },
  {
   "cell_type": "code",
   "execution_count": null,
   "metadata": {},
   "outputs": [],
   "source": [
    "from cursclient import CursClient, date2dt\n",
    "client = CursClient()\n"
   ]
  },
  {
   "cell_type": "code",
   "execution_count": null,
   "metadata": {},
   "outputs": [],
   "source": [
    "lastdate = client.lastdate\n"
   ]
  },
  {
   "cell_type": "code",
   "execution_count": null,
   "metadata": {},
   "outputs": [],
   "source": [
    "client.getall(\"2023-01-29\")"
   ]
  },
  {
   "cell_type": "code",
   "execution_count": null,
   "metadata": {},
   "outputs": [],
   "source": [
    "client._client.service.getvalue(date2dt(\"1999-01-29\"), \"USD\")"
   ]
  },
  {
   "cell_type": "code",
   "execution_count": null,
   "metadata": {},
   "outputs": [],
   "source": [
    "lastdate = client.lastdate\n",
    "for days in range(30):\n",
    "    try:\n",
    "        when = lastdate - relativedelta(days=days)\n",
    "        rates = client.getall(when)\n",
    "    except:\n",
    "        print(when)\n",
    "        raise\n",
    "\n",
    "    for date, currency, value in rates:\n",
    "        db.insert_value(date, currency, value, replace=False)\n",
    "    db.commit()\n",
    "\n"
   ]
  },
  {
   "cell_type": "code",
   "execution_count": null,
   "metadata": {},
   "outputs": [],
   "source": [
    "list(db.select_rows(date=('2022-01-01', \"2022-01-31\"), currency=\"XDR\"))"
   ]
  },
  {
   "cell_type": "code",
   "execution_count": null,
   "metadata": {},
   "outputs": [],
   "source": [
    "currencies = list(map(lambda x: x[1], client.getall()))\n",
    "print(*currencies, sep=\", \")"
   ]
  },
  {
   "cell_type": "code",
   "execution_count": null,
   "metadata": {},
   "outputs": [],
   "source": [
    "assert currency in currencies\n",
    "\n",
    "try:\n",
    "    days = list(rrule(DAILY, date2dt(\"2010-01-01\"), until=client.lastdate))\n",
    "    days.reverse()\n",
    "    loop = tqdm(days)\n",
    "    inserted = 0\n",
    "    for date in loop:\n",
    "        for currency in currencies:\n",
    "            if (value := db.get_value(date, currency)) is None:\n",
    "                loop.set_postfix_str(f\"{date.date()} {currency}\")\n",
    "                value = client.getvalue(date, currency)\n",
    "                if value is not None:\n",
    "                    db.insert_value(date, currency, value, replace=False)\n",
    "                    inserted += 1\n",
    "                    if inserted > 100:\n",
    "                        db.commit()\n",
    "                        inserted = 0\n",
    "except KeyboardInterrupt:\n",
    "    pass\n",
    "finally:\n",
    "    db.commit()\n"
   ]
  },
  {
   "cell_type": "code",
   "execution_count": null,
   "metadata": {},
   "outputs": [],
   "source": [
    "lastdate = client.lastdate\n",
    "\n",
    "client.getall(lastdate - relativedelta(days=31))"
   ]
  },
  {
   "cell_type": "code",
   "execution_count": null,
   "metadata": {},
   "outputs": [],
   "source": [
    "list(db.select_rows(date=lastdate-relativedelta(days=20), orderby=[\"currency\", \"date:desc\"]))\n"
   ]
  },
  {
   "cell_type": "code",
   "execution_count": null,
   "metadata": {},
   "outputs": [],
   "source": [
    "stdate-relativedelta(days=20), orderby=[\"currency\", \"date:desc\"]))\n"
   ]
  },
  {
   "cell_type": "code",
   "execution_count": null,
   "metadata": {},
   "outputs": [],
   "source": [
    "#client._client.service.GetValue(client.lastdate, \"EUR\")\n",
    "#db._db.rollback()"
   ]
  },
  {
   "cell_type": "code",
   "execution_count": null,
   "metadata": {},
   "outputs": [],
   "source": [
    "#db.put_value(client.lastdate, \"EUR\", 0)\n",
    "#db.remove_value(client.lastdate, \"EUR\")"
   ]
  },
  {
   "cell_type": "code",
   "execution_count": null,
   "metadata": {},
   "outputs": [],
   "source": [
    "db.get_value(client.lastdate, \"EUR\")"
   ]
  },
  {
   "cell_type": "code",
   "execution_count": null,
   "metadata": {},
   "outputs": [],
   "source": [
    "#db.close()"
   ]
  },
  {
   "cell_type": "code",
   "execution_count": null,
   "metadata": {},
   "outputs": [],
   "source": [
    "list(db.select_rows(currency=\"EUR\"))[0][0]"
   ]
  },
  {
   "cell_type": "code",
   "execution_count": null,
   "metadata": {},
   "outputs": [],
   "source": [
    "import datetime\n"
   ]
  },
  {
   "cell_type": "code",
   "execution_count": null,
   "metadata": {},
   "outputs": [],
   "source": []
  },
  {
   "cell_type": "code",
   "execution_count": null,
   "metadata": {},
   "outputs": [],
   "source": []
  }
 ],
 "metadata": {
  "kernelspec": {
   "display_name": "cursbnr-py",
   "language": "python",
   "name": "python3"
  },
  "language_info": {
   "codemirror_mode": {
    "name": "ipython",
    "version": 3
   },
   "file_extension": ".py",
   "mimetype": "text/x-python",
   "name": "python",
   "nbconvert_exporter": "python",
   "pygments_lexer": "ipython3",
   "version": "3.11.0"
  },
  "orig_nbformat": 4,
  "vscode": {
   "interpreter": {
    "hash": "18ffb1aaffc7e554c7478a33f275d6fea6b3dd841d2019adc23a725af6f8381a"
   }
  }
 },
 "nbformat": 4,
 "nbformat_minor": 2
}
